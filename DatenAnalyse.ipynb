{
 "cells": [
  {
   "cell_type": "code",
   "execution_count": 1,
   "metadata": {},
   "outputs": [
    {
     "name": "stdout",
     "output_type": "stream",
     "text": [
      "Country               object\n",
      "happiness_score      float64\n",
      "gdp_per_capita       float64\n",
      "family               float64\n",
      "health               float64\n",
      "freedom              float64\n",
      "generosity           float64\n",
      "government_trust     float64\n",
      "dystopia_residual    float64\n",
      "continent             object\n",
      "Year                   int64\n",
      "social_support       float64\n",
      "cpi_score              int64\n",
      "dtype: object\n"
     ]
    }
   ],
   "source": [
    "import pandas as pd\n",
    "import matplotlib.pyplot as plt\n",
    "\n",
    "happiness = pd.read_csv('world_happiness_report.csv', sep=',', encoding=\"CP1252\", engine='python')\n",
    "print(happiness.dtypes)"
   ]
  },
  {
   "cell_type": "code",
   "execution_count": 3,
   "metadata": {},
   "outputs": [
    {
     "data": {
      "text/plain": [
       "Europe           228\n",
       "Asia             222\n",
       "Africa           192\n",
       "South America    120\n",
       "North America     18\n",
       "Australia         12\n",
       "Name: continent, dtype: int64"
      ]
     },
     "execution_count": 3,
     "metadata": {},
     "output_type": "execute_result"
    }
   ],
   "source": [
    "happiness_count=happiness.continent.value_counts()\n",
    "happiness_count.sort_values(ascending=False)"
   ]
  },
  {
   "cell_type": "code",
   "execution_count": 4,
   "metadata": {},
   "outputs": [],
   "source": [
    "happiness_filtered = happiness[happiness['continent']=='Europe']"
   ]
  },
  {
   "cell_type": "code",
   "execution_count": 5,
   "metadata": {},
   "outputs": [],
   "source": [
    "happiness_filtered=happiness_filtered.reset_index(drop=True)"
   ]
  },
  {
   "cell_type": "code",
   "execution_count": 8,
   "metadata": {},
   "outputs": [],
   "source": [
    "happiness_europe = happiness_filtered\n",
    "happiness_europe.drop(columns=[\"gdp_per_capita\", \"family\", \"health\", \"freedom\", \"generosity\", \"government_trust\", \"dystopia_residual\", \"social_support\", \"cpi_score\"], inplace=True)"
   ]
  },
  {
   "cell_type": "code",
   "execution_count": 9,
   "metadata": {},
   "outputs": [
    {
     "name": "stdout",
     "output_type": "stream",
     "text": [
      "Country               object\n",
      "happiness_score      float64\n",
      "gdp_per_capita       float64\n",
      "family               float64\n",
      "health               float64\n",
      "freedom              float64\n",
      "generosity           float64\n",
      "government_trust     float64\n",
      "dystopia_residual    float64\n",
      "continent             object\n",
      "Year                   int64\n",
      "social_support       float64\n",
      "cpi_score              int64\n",
      "dtype: object\n"
     ]
    }
   ],
   "source": [
    "print(happiness.dtypes)"
   ]
  }
 ],
 "metadata": {
  "kernelspec": {
   "display_name": "Python 3",
   "language": "python",
   "name": "python3"
  },
  "language_info": {
   "codemirror_mode": {
    "name": "ipython",
    "version": 3
   },
   "file_extension": ".py",
   "mimetype": "text/x-python",
   "name": "python",
   "nbconvert_exporter": "python",
   "pygments_lexer": "ipython3",
   "version": "3.9.2"
  },
  "orig_nbformat": 4,
  "vscode": {
   "interpreter": {
    "hash": "9278d19df75accb8f93a6eac108463be411c9ea2c749a6c06f30ee8fef716ddf"
   }
  }
 },
 "nbformat": 4,
 "nbformat_minor": 2
}
